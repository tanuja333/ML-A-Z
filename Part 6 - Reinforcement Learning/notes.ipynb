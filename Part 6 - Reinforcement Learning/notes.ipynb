{
 "cells": [
  {
   "cell_type": "raw",
   "metadata": {},
   "source": [
    "Reinforcement Learning is a powerful branch of Machine Learning. It is used to solve interacting problems where the data observed up to time t is considered to decide which action to take at time t + 1. It is also used for Artificial Intelligence when training machines to perform tasks such as walking. Desired outcomes provide the AI with reward, undesired with punishment. Machines learn through trial and error.\n",
    "\n",
    "In this part, you will understand and learn how to implement the following Reinforcement Learning models:\n",
    "\n",
    "Upper Confidence Bound (UCB)\n",
    "\n",
    "Thompson Sampling\n",
    "\n",
    "Also, a great complimentary resource for this chapter is the following book (you will recognize the author):\n",
    "\n",
    "https://www.amazon.com/gp/mpc/A18C1YWPOVXRKS\n",
    "\n",
    "In this book you will find the theory of Reinforcement Learning and Thompson Sampling clearly explained in text, as well as many more practical activities. It will definitely help you understand this chapter better."
   ]
  }
 ],
 "metadata": {
  "kernelspec": {
   "display_name": "Python 3",
   "language": "python",
   "name": "python3"
  },
  "language_info": {
   "codemirror_mode": {
    "name": "ipython",
    "version": 3
   },
   "file_extension": ".py",
   "mimetype": "text/x-python",
   "name": "python",
   "nbconvert_exporter": "python",
   "pygments_lexer": "ipython3",
   "version": "3.7.6"
  }
 },
 "nbformat": 4,
 "nbformat_minor": 4
}
